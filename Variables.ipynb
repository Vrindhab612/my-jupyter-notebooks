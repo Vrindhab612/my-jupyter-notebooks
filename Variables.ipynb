{
 "cells": [
  {
   "cell_type": "code",
   "execution_count": 1,
   "id": "d0272204-2314-4d42-b663-8cde3c9d8d3d",
   "metadata": {},
   "outputs": [],
   "source": [
    "x = 6"
   ]
  },
  {
   "cell_type": "code",
   "execution_count": 2,
   "id": "40797c5d-950b-45fd-a2f5-3473fceb3aaa",
   "metadata": {},
   "outputs": [
    {
     "name": "stdout",
     "output_type": "stream",
     "text": [
      "6\n"
     ]
    }
   ],
   "source": [
    "print (x)"
   ]
  },
  {
   "cell_type": "code",
   "execution_count": 3,
   "id": "865108fd-1629-45c2-a41d-4d5d9d4d897b",
   "metadata": {},
   "outputs": [
    {
     "name": "stdout",
     "output_type": "stream",
     "text": [
      "Thanmatra\n"
     ]
    }
   ],
   "source": [
    "y = 'Thanmatra'\n",
    "print(y)"
   ]
  },
  {
   "cell_type": "code",
   "execution_count": 4,
   "id": "72d57d29-789c-4220-bf13-9b9a823de64e",
   "metadata": {},
   "outputs": [
    {
     "name": "stdout",
     "output_type": "stream",
     "text": [
      "Thanmatra\n"
     ]
    }
   ],
   "source": [
    "x = y\n",
    "print(x)"
   ]
  },
  {
   "cell_type": "code",
   "execution_count": 5,
   "id": "a148272d-d0d2-4903-b1e9-8328bdcdd1bb",
   "metadata": {},
   "outputs": [
    {
     "name": "stdout",
     "output_type": "stream",
     "text": [
      "9\n",
      "Thanmaatra\n",
      "varathan\n"
     ]
    }
   ],
   "source": [
    "x = 9\n",
    "y = 'Thanmaatra'\n",
    "z = 'varathan'\n",
    "\n",
    "print(x)\n",
    "print(y)\n",
    "print(z)"
   ]
  },
  {
   "cell_type": "code",
   "execution_count": 24,
   "id": "e34d4c9e-7db0-4a73-92db-22b0dcb34ab3",
   "metadata": {},
   "outputs": [
    {
     "name": "stdout",
     "output_type": "stream",
     "text": [
      "X contains 9\n",
      "Y containsThanmaatra\n",
      "Y containsvarathan\n"
     ]
    }
   ],
   "source": [
    "print(f'X contains {x}')\n",
    "print(f'Y contains{y}')\n",
    "print(f'Y contains{z}')"
   ]
  },
  {
   "cell_type": "code",
   "execution_count": 26,
   "id": "3d87b607-6548-4788-9737-02f48299a96a",
   "metadata": {},
   "outputs": [
    {
     "name": "stdout",
     "output_type": "stream",
     "text": [
      "['vanilla', 'Butterscotch', 'chocolate']\n"
     ]
    }
   ],
   "source": [
    "ice_cream = ['vanilla', 'Butterscotch', 'chocolate']\n",
    "\n",
    "print (ice_cream)"
   ]
  },
  {
   "cell_type": "code",
   "execution_count": 27,
   "id": "85ec0f9d-4f94-4ac1-82d0-835e7e8f7e27",
   "metadata": {},
   "outputs": [],
   "source": [
    "x,y,z = ice_cream"
   ]
  },
  {
   "cell_type": "code",
   "execution_count": 28,
   "id": "5ae2374d-0752-4653-88ba-9d97e8c09a02",
   "metadata": {},
   "outputs": [
    {
     "name": "stdout",
     "output_type": "stream",
     "text": [
      "vanilla\n",
      "Butterscotch\n",
      "chocolate\n"
     ]
    }
   ],
   "source": [
    "print(x)\n",
    "print(y)\n",
    "print(z)"
   ]
  },
  {
   "cell_type": "code",
   "execution_count": null,
   "id": "b09e4a29-52a4-449c-8204-f04fc4392a8e",
   "metadata": {},
   "outputs": [],
   "source": []
  },
  {
   "cell_type": "markdown",
   "id": "362330af-ee51-4807-a7ae-ff4e2d07286c",
   "metadata": {},
   "source": [
    "## Pascal case \n",
    "VrindhaJipsonIloveyou"
   ]
  },
  {
   "cell_type": "markdown",
   "id": "0e1d2997-4438-4b7b-afb1-37929ba47e47",
   "metadata": {},
   "source": [
    "## camel case\n",
    "vrindhaJipsonIloveyou"
   ]
  },
  {
   "cell_type": "code",
   "execution_count": 30,
   "id": "31b7d574-5b60-4b4e-b504-fc13fe634d4d",
   "metadata": {},
   "outputs": [],
   "source": [
    "## Snake variable\n",
    "snake_case = 'vrindha_jipson_iloveyou'"
   ]
  },
  {
   "cell_type": "code",
   "execution_count": 31,
   "id": "d978c38d-6e24-4246-84cf-2dfba7d7f6c9",
   "metadata": {},
   "outputs": [],
   "source": [
    "pascalcase = 'VrindhaJiposnIloveyou'\n"
   ]
  },
  {
   "cell_type": "code",
   "execution_count": 32,
   "id": "8242da9e-7759-4b22-b6ac-8026f1663a79",
   "metadata": {},
   "outputs": [],
   "source": [
    "camel_case = 'vrindhaJipsonIloveyou'"
   ]
  },
  {
   "cell_type": "code",
   "execution_count": 33,
   "id": "95d480d5-e6d2-43e6-a0d0-ecddcb54df68",
   "metadata": {},
   "outputs": [
    {
     "name": "stdout",
     "output_type": "stream",
     "text": [
      "vrindha_jipson_iloveyou\n",
      "VrindhaJiposnIloveyou\n",
      "vrindhaJipsonIloveyou\n"
     ]
    }
   ],
   "source": [
    "print (snake_case)\n",
    "print(pascalcase)\n",
    "print(camel_case)"
   ]
  },
  {
   "cell_type": "code",
   "execution_count": 34,
   "id": "95131b05-d1c8-4e77-937c-f30f3c1be310",
   "metadata": {},
   "outputs": [],
   "source": [
    "x = 'i love icecream' +'.'"
   ]
  },
  {
   "cell_type": "code",
   "execution_count": 35,
   "id": "4c26629a-3e79-45b3-ab91-f66dcc25667c",
   "metadata": {},
   "outputs": [
    {
     "name": "stdout",
     "output_type": "stream",
     "text": [
      "i love icecream.\n"
     ]
    }
   ],
   "source": [
    "print(x)"
   ]
  },
  {
   "cell_type": "code",
   "execution_count": 36,
   "id": "c7c8e429-662e-4b07-aca0-4fd250252185",
   "metadata": {},
   "outputs": [
    {
     "ename": "TypeError",
     "evalue": "can only concatenate str (not \"int\") to str",
     "output_type": "error",
     "traceback": [
      "\u001b[1;31m---------------------------------------------------------------------------\u001b[0m",
      "\u001b[1;31mTypeError\u001b[0m                                 Traceback (most recent call last)",
      "Cell \u001b[1;32mIn[36], line 1\u001b[0m\n\u001b[1;32m----> 1\u001b[0m x \u001b[38;5;241m=\u001b[39m \u001b[38;5;124m'\u001b[39m\u001b[38;5;124mice cream is my favourite\u001b[39m\u001b[38;5;124m'\u001b[39m \u001b[38;5;241m+\u001b[39m \u001b[38;5;241m2\u001b[39m\n",
      "\u001b[1;31mTypeError\u001b[0m: can only concatenate str (not \"int\") to str"
     ]
    }
   ],
   "source": [
    "x = 'ice cream is my favourite' + 2"
   ]
  },
  {
   "cell_type": "code",
   "execution_count": 39,
   "id": "b8aa44e5-1612-4e76-be00-06e7e384a272",
   "metadata": {},
   "outputs": [],
   "source": [
    "x = 'ice cream is my favourite' + ' 2'"
   ]
  },
  {
   "cell_type": "code",
   "execution_count": 40,
   "id": "aca43f7e-ce56-4d0b-84c2-3c3776675276",
   "metadata": {},
   "outputs": [
    {
     "name": "stdout",
     "output_type": "stream",
     "text": [
      "ice cream is my favourite 2\n"
     ]
    }
   ],
   "source": [
    "print(x)"
   ]
  },
  {
   "cell_type": "code",
   "execution_count": 43,
   "id": "22f363de-5fea-4263-9bd9-fafed91e5992",
   "metadata": {},
   "outputs": [
    {
     "name": "stdout",
     "output_type": "stream",
     "text": [
      "18\n"
     ]
    }
   ],
   "source": [
    "x =5\n",
    "y =6\n",
    "z =7\n",
    "a=x+y+z\n",
    "print(a)"
   ]
  },
  {
   "cell_type": "code",
   "execution_count": null,
   "id": "e6a5a479-3b58-41de-9984-5660c5abbcfb",
   "metadata": {},
   "outputs": [],
   "source": []
  },
  {
   "cell_type": "code",
   "execution_count": null,
   "id": "546870e7-9b34-4d1c-9e86-91042d999025",
   "metadata": {},
   "outputs": [],
   "source": []
  },
  {
   "cell_type": "code",
   "execution_count": null,
   "id": "bda94874-731b-4d89-9957-b2e21635228e",
   "metadata": {},
   "outputs": [],
   "source": []
  },
  {
   "cell_type": "code",
   "execution_count": null,
   "id": "270f576b-c5f5-468d-b8fb-7763d2fd01f1",
   "metadata": {},
   "outputs": [],
   "source": []
  },
  {
   "cell_type": "code",
   "execution_count": null,
   "id": "b69124a6-cd80-4993-b6a5-c47beb846a87",
   "metadata": {},
   "outputs": [],
   "source": []
  },
  {
   "cell_type": "code",
   "execution_count": null,
   "id": "e4e4f30f-3368-4fdc-8b37-3c19a7edf0b6",
   "metadata": {},
   "outputs": [],
   "source": []
  },
  {
   "cell_type": "code",
   "execution_count": null,
   "id": "307b4460-d4d7-451c-8af2-8fe32d9a930e",
   "metadata": {},
   "outputs": [],
   "source": []
  },
  {
   "cell_type": "code",
   "execution_count": null,
   "id": "1e084531-4923-4475-aea6-57c8039ed8b0",
   "metadata": {},
   "outputs": [],
   "source": []
  }
 ],
 "metadata": {
  "kernelspec": {
   "display_name": "Python 3 (ipykernel)",
   "language": "python",
   "name": "python3"
  },
  "language_info": {
   "codemirror_mode": {
    "name": "ipython",
    "version": 3
   },
   "file_extension": ".py",
   "mimetype": "text/x-python",
   "name": "python",
   "nbconvert_exporter": "python",
   "pygments_lexer": "ipython3",
   "version": "3.11.7"
  }
 },
 "nbformat": 4,
 "nbformat_minor": 5
}
