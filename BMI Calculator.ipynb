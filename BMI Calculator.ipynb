{
 "cells": [
  {
   "cell_type": "code",
   "execution_count": 16,
   "metadata": {},
   "outputs": [],
   "source": [
    "weight= input()\n"
   ]
  },
  {
   "cell_type": "code",
   "execution_count": 17,
   "metadata": {},
   "outputs": [
    {
     "name": "stdout",
     "output_type": "stream",
     "text": [
      "Vrindha\n"
     ]
    }
   ],
   "source": [
    "print(weight)"
   ]
  },
  {
   "cell_type": "code",
   "execution_count": 18,
   "metadata": {},
   "outputs": [
    {
     "data": {
      "text/plain": [
       "str"
      ]
     },
     "execution_count": 18,
     "metadata": {},
     "output_type": "execute_result"
    }
   ],
   "source": [
    "type(weight)"
   ]
  },
  {
   "cell_type": "code",
   "execution_count": 13,
   "metadata": {},
   "outputs": [
    {
     "name": "stdout",
     "output_type": "stream",
     "text": [
      "Vrindha You are Normal weight\n"
     ]
    }
   ],
   "source": [
    "name = input('Enter your Name: ')\n",
    "weight = int(input(\"Enter your weights in Pounds: \"))\n",
    "height = int(input(\"Enter your height in inches: \"))\n",
    "BMI = (weight * 703) / (height * height )\n",
    "\n",
    "if BMI < 16:\n",
    "    print(name, 'you are severe Thickness')\n",
    "elif BMI < 17:\n",
    "    print(name, 'You are Moderate Thickness')\n",
    "elif BMI < 18.5:\n",
    "    print(name ,'You are Mild Thinnes')\n",
    "elif BMI < 25:\n",
    "    print(name,'You are Normal weight')\n",
    "elif BMI < 30:\n",
    "    print(name, 'You are Over Weight')\n",
    "elif BMI <35:\n",
    "    print(name ,' You are Obese class I')\n",
    "elif BMI < 40:\n",
    "    print(name,'You are Obese class II')\n",
    "else:\n",
    "    print(name,'You are Obese Class III')\n",
    "\n",
    "        \n"
   ]
  },
  {
   "cell_type": "code",
   "execution_count": null,
   "metadata": {},
   "outputs": [],
   "source": []
  }
 ],
 "metadata": {
  "kernelspec": {
   "display_name": "my__envt",
   "language": "python",
   "name": "python3"
  },
  "language_info": {
   "codemirror_mode": {
    "name": "ipython",
    "version": 3
   },
   "file_extension": ".py",
   "mimetype": "text/x-python",
   "name": "python",
   "nbconvert_exporter": "python",
   "pygments_lexer": "ipython3",
   "version": "3.11.9"
  }
 },
 "nbformat": 4,
 "nbformat_minor": 2
}
