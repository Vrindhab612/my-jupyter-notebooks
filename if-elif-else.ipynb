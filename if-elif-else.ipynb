{
 "cells": [
  {
   "cell_type": "code",
   "execution_count": 8,
   "id": "b6b8e0f6-eaf4-4026-9d4c-a6af4c678c13",
   "metadata": {},
   "outputs": [
    {
     "name": "stdout",
     "output_type": "stream",
     "text": [
      "it worked!\n"
     ]
    }
   ],
   "source": [
    "if 25 > 10:\n",
    "    print('it worked!')"
   ]
  },
  {
   "cell_type": "code",
   "execution_count": 9,
   "id": "fdf2595a-c253-48a4-b6e6-7e0305df105e",
   "metadata": {},
   "outputs": [],
   "source": [
    "if 25 < 10:\n",
    "    print('it worked!')\n",
    "    "
   ]
  },
  {
   "cell_type": "code",
   "execution_count": 10,
   "id": "9cf06fbb-5b2e-4361-9eaa-6f1820d5ba90",
   "metadata": {},
   "outputs": [
    {
     "name": "stdout",
     "output_type": "stream",
     "text": [
      "it didn't work\n"
     ]
    }
   ],
   "source": [
    "if 25 < 10:\n",
    "    print('it worked!')\n",
    "else: \n",
    "    print(\"it didn't work\")\n",
    "    "
   ]
  },
  {
   "cell_type": "code",
   "execution_count": 11,
   "id": "850aad6f-0d97-4d02-b6e0-1028538383ae",
   "metadata": {},
   "outputs": [
    {
     "name": "stdout",
     "output_type": "stream",
     "text": [
      "else worked..\n"
     ]
    }
   ],
   "source": [
    "if 25 > 30:\n",
    "    print('it worked!')\n",
    "elif 25 > 30:\n",
    "    print('elif 1 worked')\n",
    "elif 25 > 30:\n",
    "    print('elif 2 worked')\n",
    "elif 20 == 30:\n",
    "    print('elif 3 worked')\n",
    "else:\n",
    "    print('else worked..')"
   ]
  },
  {
   "cell_type": "code",
   "execution_count": 12,
   "id": "58ac95b0-e634-4c24-8007-0111932368c0",
   "metadata": {},
   "outputs": [
    {
     "name": "stdout",
     "output_type": "stream",
     "text": [
      "it worked!\n"
     ]
    }
   ],
   "source": [
    "if (25 < 30) or (30<20):\n",
    "    print('it worked!')\n",
    "elif 25 > 30:\n",
    "    print('elif 1 worked')\n",
    "elif 25 > 30:\n",
    "    print('elif 2 worked')\n",
    "elif 20 == 30:\n",
    "    print('elif 3 worked')\n",
    "else:\n",
    "    print('else worked..')"
   ]
  },
  {
   "cell_type": "markdown",
   "id": "72d123d3-a0ec-42f5-97fe-e744a0c1a252",
   "metadata": {},
   "source": [
    "## For Loops"
   ]
  },
  {
   "cell_type": "code",
   "execution_count": 13,
   "id": "e47e0ddb-2e2f-4c91-8737-ef11ebf3247f",
   "metadata": {},
   "outputs": [
    {
     "name": "stdout",
     "output_type": "stream",
     "text": [
      "32\n",
      "43\n",
      "4\n",
      "1\n",
      "4\n",
      "1\n",
      "4\n",
      "5\n",
      "6\n",
      "6\n"
     ]
    }
   ],
   "source": [
    "int = [32,43,4,1,4,1,4,5,6,6]\n",
    "for i in int:\n",
    "    print(i)"
   ]
  },
  {
   "cell_type": "code",
   "execution_count": 14,
   "id": "35a6b5f4-d425-4e93-b3a6-46b07135100e",
   "metadata": {},
   "outputs": [
    {
     "name": "stdout",
     "output_type": "stream",
     "text": [
      "32\n",
      "43\n",
      "4\n",
      "1\n",
      "4\n",
      "1\n",
      "4\n",
      "5\n",
      "6\n",
      "6\n"
     ]
    }
   ],
   "source": [
    "for num in int :\n",
    "    print(num)"
   ]
  },
  {
   "cell_type": "code",
   "execution_count": 15,
   "id": "7f0933c4-b74d-4cb6-94ad-8c02ecf9553b",
   "metadata": {},
   "outputs": [
    {
     "name": "stdout",
     "output_type": "stream",
     "text": [
      "64\n",
      "86\n",
      "8\n",
      "2\n",
      "8\n",
      "2\n",
      "8\n",
      "10\n",
      "12\n",
      "12\n"
     ]
    }
   ],
   "source": [
    "for num in int:\n",
    "    print(num + num)"
   ]
  },
  {
   "cell_type": "code",
   "execution_count": 16,
   "id": "ed3d2108-f210-42c9-9791-2d76677683dc",
   "metadata": {},
   "outputs": [
    {
     "name": "stdout",
     "output_type": "stream",
     "text": [
      "1024\n",
      "1849\n",
      "16\n",
      "1\n",
      "16\n",
      "1\n",
      "16\n",
      "25\n",
      "36\n",
      "36\n"
     ]
    }
   ],
   "source": [
    "for num in int:\n",
    "    print(num * num)"
   ]
  },
  {
   "cell_type": "code",
   "execution_count": 17,
   "id": "c2e4dba4-efc9-4bff-bbb9-5986e4053c7d",
   "metadata": {},
   "outputs": [
    {
     "name": "stdout",
     "output_type": "stream",
     "text": [
      "Yep!\n",
      "Yep!\n",
      "Yep!\n",
      "Yep!\n",
      "Yep!\n",
      "Yep!\n",
      "Yep!\n",
      "Yep!\n",
      "Yep!\n",
      "Yep!\n"
     ]
    }
   ],
   "source": [
    "for num in int:\n",
    "    print('Yep!')"
   ]
  },
  {
   "cell_type": "code",
   "execution_count": 18,
   "id": "bf20645e-e0b2-4def-90ab-8244959132fd",
   "metadata": {},
   "outputs": [
    {
     "name": "stdout",
     "output_type": "stream",
     "text": [
      "32 Yep!\n",
      "43 Yep!\n",
      "4 Yep!\n",
      "1 Yep!\n",
      "4 Yep!\n",
      "1 Yep!\n",
      "4 Yep!\n",
      "5 Yep!\n",
      "6 Yep!\n",
      "6 Yep!\n"
     ]
    }
   ],
   "source": [
    "for num in int:\n",
    "    print(num , 'Yep!')"
   ]
  },
  {
   "cell_type": "code",
   "execution_count": 19,
   "id": "081d1e6f-504a-4aeb-8359-f098e58b9f83",
   "metadata": {},
   "outputs": [
    {
     "name": "stdout",
     "output_type": "stream",
     "text": [
      "name\n",
      "age\n",
      "favourite food\n"
     ]
    }
   ],
   "source": [
    "my_dict = {'name': 'vrindha','age' : 23, 'favourite food':'biriyani'}\n",
    "for dict in my_dict:\n",
    "    print (dict)"
   ]
  },
  {
   "cell_type": "code",
   "execution_count": 20,
   "id": "b19a1d99-75ce-4939-bd65-6b8c7e9c2400",
   "metadata": {},
   "outputs": [
    {
     "name": "stdout",
     "output_type": "stream",
     "text": [
      "vrindha\n",
      "23\n",
      "biriyani\n"
     ]
    }
   ],
   "source": [
    "for dict in my_dict.values():\n",
    "    print (dict)"
   ]
  },
  {
   "cell_type": "code",
   "execution_count": 21,
   "id": "4e5b0fc5-0adc-4355-87a1-a7679f245296",
   "metadata": {},
   "outputs": [
    {
     "name": "stdout",
     "output_type": "stream",
     "text": [
      "name\n",
      "age\n",
      "favourite food\n"
     ]
    }
   ],
   "source": [
    "for dict in my_dict.keys():\n",
    "    print (dict)"
   ]
  },
  {
   "cell_type": "code",
   "execution_count": 22,
   "id": "aa04c4fe-c199-46a1-a8d9-0a41234ba6a8",
   "metadata": {},
   "outputs": [
    {
     "name": "stdout",
     "output_type": "stream",
     "text": [
      "name\n",
      "age\n",
      "favourite food\n"
     ]
    }
   ],
   "source": [
    "for dict in my_dict.keys():\n",
    "    print (dict)"
   ]
  },
  {
   "cell_type": "code",
   "execution_count": 23,
   "id": "44698579-482f-48b2-aab4-31f18346f601",
   "metadata": {},
   "outputs": [
    {
     "name": "stdout",
     "output_type": "stream",
     "text": [
      "name -> vrindha\n",
      "age -> 23\n",
      "favourite food -> biriyani\n"
     ]
    }
   ],
   "source": [
    "for key,value in my_dict.items():\n",
    "    print(key, '->' , value )"
   ]
  },
  {
   "cell_type": "markdown",
   "id": "b9b4e869-a4a0-487d-8e33-4f550c91b9f4",
   "metadata": {},
   "source": [
    "## Nested For Loops\n",
    "\n",
    "#### A for loop within a for loop\n"
   ]
  },
  {
   "cell_type": "code",
   "execution_count": 24,
   "id": "269764a2-fadf-4659-9f72-db00e052f256",
   "metadata": {},
   "outputs": [
    {
     "name": "stdout",
     "output_type": "stream",
     "text": [
      "Idli is delicious with sambar\n",
      "Idli is delicious with Kadala\n",
      "Idli is delicious with Boli\n",
      "Idli is delicious with Chicken\n",
      "Idli is delicious with Chicken\n",
      "Idli is delicious with Beef\n",
      "Puttu is delicious with sambar\n",
      "Puttu is delicious with Kadala\n",
      "Puttu is delicious with Boli\n",
      "Puttu is delicious with Chicken\n",
      "Puttu is delicious with Chicken\n",
      "Puttu is delicious with Beef\n",
      "Payasam is delicious with sambar\n",
      "Payasam is delicious with Kadala\n",
      "Payasam is delicious with Boli\n",
      "Payasam is delicious with Chicken\n",
      "Payasam is delicious with Chicken\n",
      "Payasam is delicious with Beef\n",
      "Porotta is delicious with sambar\n",
      "Porotta is delicious with Kadala\n",
      "Porotta is delicious with Boli\n",
      "Porotta is delicious with Chicken\n",
      "Porotta is delicious with Chicken\n",
      "Porotta is delicious with Beef\n",
      "Biriyani is delicious with sambar\n",
      "Biriyani is delicious with Kadala\n",
      "Biriyani is delicious with Boli\n",
      "Biriyani is delicious with Chicken\n",
      "Biriyani is delicious with Chicken\n",
      "Biriyani is delicious with Beef\n",
      "pazhampori is delicious with sambar\n",
      "pazhampori is delicious with Kadala\n",
      "pazhampori is delicious with Boli\n",
      "pazhampori is delicious with Chicken\n",
      "pazhampori is delicious with Chicken\n",
      "pazhampori is delicious with Beef\n"
     ]
    }
   ],
   "source": [
    "foods  = ['Idli', 'Puttu', 'Payasam', 'Porotta', 'Biriyani', 'pazhampori']\n",
    "curries = ['sambar', 'Kadala','Boli', 'Chicken', 'Chicken','Beef']\n",
    "\n",
    "for food in foods:\n",
    "    for curry in curries:\n",
    "        print(food, 'is delicious with', curry)\n",
    "    "
   ]
  },
  {
   "cell_type": "markdown",
   "id": "0a29d589-de38-416a-820a-26deff6d6d5d",
   "metadata": {},
   "source": [
    "## While Loops : while loops in python used to itreate a block of codes in python as long as the test condition is true.\n",
    "##### the main diffreence between for loops and while loops are the for loops iterate through the entire sequence regardless of a condition\n",
    "##### While loop only iterate over the sequence as long as a specific condition is met"
   ]
  },
  {
   "cell_type": "code",
   "execution_count": 25,
   "id": "c869f685-de17-4b9b-a855-aedb73ca852e",
   "metadata": {},
   "outputs": [
    {
     "name": "stdout",
     "output_type": "stream",
     "text": [
      "0\n",
      "1\n",
      "2\n",
      "3\n",
      "4\n"
     ]
    }
   ],
   "source": [
    "num = 0\n",
    "while num < 5:\n",
    "    print (num)\n",
    "    num = num +1\n",
    "    "
   ]
  },
  {
   "cell_type": "code",
   "execution_count": 26,
   "id": "9dd7b282-8430-4b13-8dbe-2c3d785d3c3b",
   "metadata": {},
   "outputs": [
    {
     "name": "stdout",
     "output_type": "stream",
     "text": [
      "0\n",
      "1\n",
      "2\n",
      "3\n"
     ]
    }
   ],
   "source": [
    "num = 0\n",
    "while num < 5:\n",
    "    print (num)\n",
    "    if num == 3:\n",
    "        break\n",
    "    num = num +1\n",
    "    "
   ]
  },
  {
   "cell_type": "code",
   "execution_count": 27,
   "id": "cb87af9f-a52d-49b2-927e-01843211a7b6",
   "metadata": {},
   "outputs": [
    {
     "name": "stdout",
     "output_type": "stream",
     "text": [
      "0\n",
      "1\n",
      "2\n",
      "3\n",
      "4\n",
      "no longer < 5\n"
     ]
    }
   ],
   "source": [
    "num = 0\n",
    "while num < 5:\n",
    "    print(num)\n",
    "    if num ==6:\n",
    "        break\n",
    "    num = num+1\n",
    "else:\n",
    "    print('no longer < 5')"
   ]
  },
  {
   "cell_type": "code",
   "execution_count": 28,
   "id": "94c6d1c6-f07a-4a20-ae47-15091920fa51",
   "metadata": {},
   "outputs": [
    {
     "name": "stdout",
     "output_type": "stream",
     "text": [
      "0\n",
      "1\n",
      "2\n",
      "3\n",
      "4\n",
      "5\n",
      "6\n",
      "7\n",
      "8\n",
      "9\n",
      "10\n"
     ]
    }
   ],
   "source": [
    "for i in range(0,11):\n",
    "    print(i)"
   ]
  },
  {
   "cell_type": "code",
   "execution_count": 29,
   "id": "74a84f1e-b876-45d9-9a49-9f6b670cc5ad",
   "metadata": {},
   "outputs": [
    {
     "name": "stdin",
     "output_type": "stream",
     "text": [
      "Enter your number 4\n"
     ]
    },
    {
     "ename": "TypeError",
     "evalue": "'list' object is not callable",
     "output_type": "error",
     "traceback": [
      "\u001b[1;31m---------------------------------------------------------------------------\u001b[0m",
      "\u001b[1;31mTypeError\u001b[0m                                 Traceback (most recent call last)",
      "Cell \u001b[1;32mIn[29], line 1\u001b[0m\n\u001b[1;32m----> 1\u001b[0m num \u001b[38;5;241m=\u001b[39m \u001b[38;5;28mint\u001b[39m(\u001b[38;5;28minput\u001b[39m(\u001b[38;5;124m'\u001b[39m\u001b[38;5;124mEnter your number\u001b[39m\u001b[38;5;124m'\u001b[39m))\n\u001b[0;32m      2\u001b[0m \u001b[38;5;28;01mfor\u001b[39;00m i \u001b[38;5;129;01min\u001b[39;00m \u001b[38;5;28mrange\u001b[39m(\u001b[38;5;241m1\u001b[39m,num\u001b[38;5;241m+\u001b[39m\u001b[38;5;241m1\u001b[39m):\n\u001b[0;32m      3\u001b[0m     \u001b[38;5;28;01mfor\u001b[39;00m j \u001b[38;5;129;01min\u001b[39;00m \u001b[38;5;28mrange\u001b[39m(\u001b[38;5;241m1\u001b[39m,i\u001b[38;5;241m+\u001b[39m\u001b[38;5;241m1\u001b[39m):\n",
      "\u001b[1;31mTypeError\u001b[0m: 'list' object is not callable"
     ]
    }
   ],
   "source": [
    "num = int(input('Enter your number'))\n",
    "for i in range(1,num+1):\n",
    "    for j in range(1,i+1):\n",
    "        print('*',end = ' ')\n",
    "    print()\n",
    "        \n",
    "    \n"
   ]
  },
  {
   "cell_type": "code",
   "execution_count": null,
   "id": "82415a58-92bb-46ff-8357-34760dcc9a5e",
   "metadata": {},
   "outputs": [],
   "source": []
  },
  {
   "cell_type": "code",
   "execution_count": null,
   "id": "112c6911-cede-48c1-98aa-5480b490d9a7",
   "metadata": {},
   "outputs": [],
   "source": []
  },
  {
   "cell_type": "code",
   "execution_count": null,
   "id": "c84a57f0-98a4-4d46-9a6f-7a58b60ad3f3",
   "metadata": {},
   "outputs": [],
   "source": []
  },
  {
   "cell_type": "code",
   "execution_count": null,
   "id": "25c46e9a-96e0-4f1f-9214-c52e42c8148a",
   "metadata": {},
   "outputs": [],
   "source": []
  },
  {
   "cell_type": "code",
   "execution_count": null,
   "id": "b0ed31db-800f-489d-9595-9686fb1cac11",
   "metadata": {},
   "outputs": [],
   "source": []
  },
  {
   "cell_type": "code",
   "execution_count": null,
   "id": "c827f070-0702-4c36-a3c5-7bbda9f2c6f5",
   "metadata": {},
   "outputs": [],
   "source": []
  },
  {
   "cell_type": "code",
   "execution_count": null,
   "id": "814881a2-3e72-492d-9ae9-2ffe4995d735",
   "metadata": {},
   "outputs": [],
   "source": []
  },
  {
   "cell_type": "code",
   "execution_count": null,
   "id": "5cb55cc2-4083-4512-853d-0950318d3c74",
   "metadata": {},
   "outputs": [],
   "source": []
  }
 ],
 "metadata": {
  "kernelspec": {
   "display_name": "Python 3 (ipykernel)",
   "language": "python",
   "name": "python3"
  },
  "language_info": {
   "codemirror_mode": {
    "name": "ipython",
    "version": 3
   },
   "file_extension": ".py",
   "mimetype": "text/x-python",
   "name": "python",
   "nbconvert_exporter": "python",
   "pygments_lexer": "ipython3",
   "version": "3.11.7"
  }
 },
 "nbformat": 4,
 "nbformat_minor": 5
}
