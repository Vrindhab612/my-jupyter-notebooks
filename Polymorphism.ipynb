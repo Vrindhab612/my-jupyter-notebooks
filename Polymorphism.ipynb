{
 "cells": [
  {
   "cell_type": "markdown",
   "metadata": {},
   "source": [
    "# Polymorphism"
   ]
  },
  {
   "cell_type": "code",
   "execution_count": null,
   "metadata": {},
   "outputs": [],
   "source": [
    "# Difference Behaviour\n",
    "# directly the overloading doesnt work in the python. But we can access it in a diffrent way\n",
    "\n"
   ]
  },
  {
   "cell_type": "markdown",
   "metadata": {},
   "source": [
    "#### Overloading"
   ]
  },
  {
   "cell_type": "code",
   "execution_count": 12,
   "metadata": {},
   "outputs": [
    {
     "name": "stdout",
     "output_type": "stream",
     "text": [
      "16\n",
      "90\n",
      "520\n"
     ]
    }
   ],
   "source": [
    "class A:\n",
    "    def find_sum(self,a,b,c=0,d=0):\n",
    "        print(a+b+c+d)\n",
    "a=A\n",
    "a.find_sum(5,7,9)\n",
    "a.find_sum(10,20,30,40)\n",
    "a.find_sum(30,300,20,200)\n"
   ]
  },
  {
   "cell_type": "markdown",
   "metadata": {},
   "source": [
    "#### Method Overriding"
   ]
  },
  {
   "cell_type": "code",
   "execution_count": 21,
   "metadata": {},
   "outputs": [
    {
     "name": "stdout",
     "output_type": "stream",
     "text": [
      "function 3 working\n",
      "function working from class B\n"
     ]
    }
   ],
   "source": [
    "# just like Inheritance concepts\n",
    "\n",
    "class A:\n",
    "    def func1(self):\n",
    "        print('function 1 working')\n",
    "    def func(self):\n",
    "        print('function working from class A')\n",
    "class B(A):\n",
    "    def func3(self):\n",
    "        print('function 3 working')\n",
    "    def func(self):\n",
    "        print('function working from class B')\n",
    "    \n",
    "obj = B()\n",
    "obj.func3()\n",
    "obj.func()"
   ]
  },
  {
   "cell_type": "code",
   "execution_count": 20,
   "metadata": {},
   "outputs": [
    {
     "name": "stdout",
     "output_type": "stream",
     "text": [
      "function 3 working\n",
      "function working from class B\n",
      "function working from class A\n"
     ]
    }
   ],
   "source": [
    "\n",
    "class A:\n",
    "    def func1(self):\n",
    "        print('function 1 working')\n",
    "    def func(self):\n",
    "        print('function working from class A')\n",
    "class B(A):\n",
    "    def func3(self):\n",
    "        print('function 3 working')\n",
    "    def func(self):\n",
    "        print('function working from class B')\n",
    "        super().func()\n",
    "obj = B()\n",
    "obj.func3()\n",
    "obj.func()"
   ]
  },
  {
   "cell_type": "markdown",
   "metadata": {},
   "source": [
    "#### Duck Typing"
   ]
  },
  {
   "cell_type": "code",
   "execution_count": 25,
   "metadata": {},
   "outputs": [
    {
     "name": "stdout",
     "output_type": "stream",
     "text": [
      "Human is performing in the circus\n"
     ]
    }
   ],
   "source": [
    "class Animal:\n",
    "    def perform(self):\n",
    "        print('Animal in performing in the circus')\n",
    "class Human:\n",
    "    def perform(self):\n",
    "        print('Human is performing in the circus')\n",
    "class Circus:\n",
    "    def play(self,animal:Animal):\n",
    "        animal.perform()\n",
    "tiger = Animal()\n",
    "human = Human()\n",
    "c= Circus()\n",
    "c.play(human)"
   ]
  },
  {
   "cell_type": "markdown",
   "metadata": {},
   "source": [
    "# Operator overloading"
   ]
  },
  {
   "cell_type": "code",
   "execution_count": 28,
   "metadata": {},
   "outputs": [
    {
     "name": "stdout",
     "output_type": "stream",
     "text": [
      "Add operator called\n",
      "Final Price:  75000\n"
     ]
    }
   ],
   "source": [
    "class Product:\n",
    "    def __init__(self,name,price):\n",
    "        self.name = name\n",
    "        self.price = price\n",
    "    def __add__(self,p2):\n",
    "        print('Add operator called')\n",
    "        final_price = self.price +p2.price\n",
    "        print('Final Price: ',final_price)\n",
    "p1 = Product('Vivo',25000)\n",
    "p2 = Product('iphone',50000)\n",
    "p1+p2"
   ]
  },
  {
   "cell_type": "code",
   "execution_count": 31,
   "metadata": {},
   "outputs": [
    {
     "name": "stdout",
     "output_type": "stream",
     "text": [
      "Substraction operator called\n",
      "Final Price:  25000\n"
     ]
    }
   ],
   "source": [
    "class Product:\n",
    "    def __init__(self,name,price):\n",
    "        self.name = name\n",
    "        self.price = price\n",
    "    def __sub__(self,p2):\n",
    "        print('Substraction operator called')\n",
    "        final_price = self.price-p2.price\n",
    "        print('Final Price: ',final_price)\n",
    "p1 = Product('Vivo',75000)\n",
    "p2 = Product('iphone',50000)\n",
    "p1-p2"
   ]
  },
  {
   "cell_type": "code",
   "execution_count": null,
   "metadata": {},
   "outputs": [],
   "source": []
  }
 ],
 "metadata": {
  "kernelspec": {
   "display_name": "my__envt",
   "language": "python",
   "name": "python3"
  },
  "language_info": {
   "codemirror_mode": {
    "name": "ipython",
    "version": 3
   },
   "file_extension": ".py",
   "mimetype": "text/x-python",
   "name": "python",
   "nbconvert_exporter": "python",
   "pygments_lexer": "ipython3",
   "version": "3.11.9"
  }
 },
 "nbformat": 4,
 "nbformat_minor": 2
}
