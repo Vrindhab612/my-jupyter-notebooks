{
 "cells": [
  {
   "cell_type": "markdown",
   "id": "4d80f9fd-b33d-45bc-9493-df23553ac019",
   "metadata": {},
   "source": [
    "# Functions"
   ]
  },
  {
   "cell_type": "code",
   "execution_count": null,
   "id": "c47d0d1c-6e8d-467b-aebd-dc74449ed3c2",
   "metadata": {},
   "outputs": [],
   "source": [
    "## A Function is a block of codes only run when you call."
   ]
  },
  {
   "cell_type": "code",
   "execution_count": 2,
   "id": "86aafa54-176e-45f4-9f5a-7d25f0a38756",
   "metadata": {},
   "outputs": [],
   "source": [
    "def first_func(num,power):\n",
    "    print(num**power)"
   ]
  },
  {
   "cell_type": "code",
   "execution_count": 3,
   "id": "d0539847-df42-4b27-a2dd-f8480fe101f7",
   "metadata": {},
   "outputs": [
    {
     "name": "stdout",
     "output_type": "stream",
     "text": [
      "9\n"
     ]
    }
   ],
   "source": [
    "first_func(3,2)"
   ]
  },
  {
   "cell_type": "code",
   "execution_count": 4,
   "id": "e5a1c1d9-01d0-4cb8-b755-6f1f3ad051e3",
   "metadata": {},
   "outputs": [
    {
     "name": "stdout",
     "output_type": "stream",
     "text": [
      "900\n"
     ]
    }
   ],
   "source": [
    "first_func(30,2)"
   ]
  },
  {
   "cell_type": "code",
   "execution_count": 5,
   "id": "e06d84bc-6602-4bef-891d-9da23aac90c8",
   "metadata": {},
   "outputs": [
    {
     "name": "stdout",
     "output_type": "stream",
     "text": [
      "43046721\n"
     ]
    }
   ],
   "source": [
    "first_func(9,8)"
   ]
  },
  {
   "cell_type": "code",
   "execution_count": 6,
   "id": "7831ea52-4f74-4a60-8486-6b3e6576f7c4",
   "metadata": {},
   "outputs": [],
   "source": [
    "# Arbitrary arguments\n",
    "# Arbitaray argumnets are those which we dont how many numbers we have to call only we add when call the args\n"
   ]
  },
  {
   "cell_type": "code",
   "execution_count": 17,
   "id": "8b51342d",
   "metadata": {},
   "outputs": [],
   "source": [
    "def number_args(*number):\n",
    "    print(number[2]*number[1])"
   ]
  },
  {
   "cell_type": "code",
   "execution_count": 18,
   "id": "736f4d3a",
   "metadata": {},
   "outputs": [
    {
     "name": "stdout",
     "output_type": "stream",
     "text": [
      "5\n"
     ]
    }
   ],
   "source": [
    "number_args(3,5,1,2,8)"
   ]
  },
  {
   "cell_type": "code",
   "execution_count": 15,
   "id": "0792ead4",
   "metadata": {},
   "outputs": [],
   "source": [
    "arg_num = (2,3,4,5,6)\n",
    "\n",
    "def number_argms(*numbers):\n",
    "    print(numbers[0]*numbers[1]*numbers[4])"
   ]
  },
  {
   "cell_type": "code",
   "execution_count": 16,
   "id": "10b10de9",
   "metadata": {},
   "outputs": [
    {
     "name": "stdout",
     "output_type": "stream",
     "text": [
      "6\n"
     ]
    }
   ],
   "source": [
    "number_args(*arg_num)"
   ]
  },
  {
   "cell_type": "code",
   "execution_count": 19,
   "id": "7a5e7245",
   "metadata": {},
   "outputs": [],
   "source": [
    "# Keyword Arguments\n",
    "def numbers(number,power):\n",
    "    print(number ** power)"
   ]
  },
  {
   "cell_type": "code",
   "execution_count": 21,
   "id": "353460d8",
   "metadata": {},
   "outputs": [
    {
     "name": "stdout",
     "output_type": "stream",
     "text": [
      "16807\n"
     ]
    }
   ],
   "source": [
    "numbers(power = 5, number = 7)"
   ]
  },
  {
   "cell_type": "code",
   "execution_count": 28,
   "id": "690a1089",
   "metadata": {},
   "outputs": [],
   "source": [
    "def number_kwargs(**number):\n",
    "    print('My number is : ' + number['integer'] , ',  My other number is : ' + number['integer2'])"
   ]
  },
  {
   "cell_type": "code",
   "execution_count": 29,
   "id": "79cb11dd",
   "metadata": {},
   "outputs": [
    {
     "name": "stdout",
     "output_type": "stream",
     "text": [
      "My number is : 234 ,  My other number is : 254\n"
     ]
    }
   ],
   "source": [
    "number_kwargs(integer = '234', integer2 = '254')"
   ]
  },
  {
   "cell_type": "code",
   "execution_count": null,
   "id": "aa58734b",
   "metadata": {},
   "outputs": [],
   "source": []
  }
 ],
 "metadata": {
  "kernelspec": {
   "display_name": "my__envt",
   "language": "python",
   "name": "python3"
  },
  "language_info": {
   "codemirror_mode": {
    "name": "ipython",
    "version": 3
   },
   "file_extension": ".py",
   "mimetype": "text/x-python",
   "name": "python",
   "nbconvert_exporter": "python",
   "pygments_lexer": "ipython3",
   "version": "3.11.9"
  }
 },
 "nbformat": 4,
 "nbformat_minor": 5
}
