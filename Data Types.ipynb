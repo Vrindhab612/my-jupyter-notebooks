{
 "cells": [
  {
   "cell_type": "code",
   "execution_count": 1,
   "id": "d99294d2-b2f0-4e45-8b0a-f575441e5d6d",
   "metadata": {},
   "outputs": [
    {
     "data": {
      "text/plain": [
       "12"
      ]
     },
     "execution_count": 1,
     "metadata": {},
     "output_type": "execute_result"
    }
   ],
   "source": [
    "# integer\n",
    "12"
   ]
  },
  {
   "cell_type": "code",
   "execution_count": 2,
   "id": "7411e148-3337-475f-a53f-e947e6e0e996",
   "metadata": {},
   "outputs": [
    {
     "data": {
      "text/plain": [
       "int"
      ]
     },
     "execution_count": 2,
     "metadata": {},
     "output_type": "execute_result"
    }
   ],
   "source": [
    "type(12)"
   ]
  },
  {
   "cell_type": "code",
   "execution_count": 3,
   "id": "1d672218-ef3d-47c8-a20a-bb4dee5eb798",
   "metadata": {},
   "outputs": [
    {
     "data": {
      "text/plain": [
       "float"
      ]
     },
     "execution_count": 3,
     "metadata": {},
     "output_type": "execute_result"
    }
   ],
   "source": [
    "# Integer\n",
    "type (12 + 10.25)"
   ]
  },
  {
   "cell_type": "code",
   "execution_count": 4,
   "id": "418f1705-cd1c-4f8a-84a7-7a1711fd8e2f",
   "metadata": {},
   "outputs": [
    {
     "data": {
      "text/plain": [
       "22.25"
      ]
     },
     "execution_count": 4,
     "metadata": {},
     "output_type": "execute_result"
    }
   ],
   "source": [
    "12 + 10.25"
   ]
  },
  {
   "cell_type": "code",
   "execution_count": 5,
   "id": "cbbf30c8-84e4-48b1-9ff6-096cda49e9e5",
   "metadata": {},
   "outputs": [
    {
     "data": {
      "text/plain": [
       "True"
      ]
     },
     "execution_count": 5,
     "metadata": {},
     "output_type": "execute_result"
    }
   ],
   "source": [
    "# Boolean\n",
    "\n",
    "10 < 12"
   ]
  },
  {
   "cell_type": "code",
   "execution_count": 6,
   "id": "6c6c4605-c668-416b-94f7-9ef5058cb3e7",
   "metadata": {},
   "outputs": [
    {
     "data": {
      "text/plain": [
       "bool"
      ]
     },
     "execution_count": 6,
     "metadata": {},
     "output_type": "execute_result"
    }
   ],
   "source": [
    "type(10<1)"
   ]
  },
  {
   "cell_type": "code",
   "execution_count": 9,
   "id": "bdd46ad2-985c-4bc6-968d-11486d53a9aa",
   "metadata": {},
   "outputs": [],
   "source": [
    "# string\n",
    "s = 'string'\n",
    "S = \" String\"\n",
    "str= \"\"\"\n",
    "    i am very beautiful \n",
    "    i am very intelligent in python 3\n",
    "    i am very smart for self learning\n",
    "    \"\"\""
   ]
  },
  {
   "cell_type": "code",
   "execution_count": 10,
   "id": "b2e4484d-6853-491c-a2f6-143544d5a893",
   "metadata": {},
   "outputs": [
    {
     "data": {
      "text/plain": [
       "'\\n    i am very beautiful \\n    i am very intelligent in python 3\\n    i am very smart for self learning\\n    '"
      ]
     },
     "execution_count": 10,
     "metadata": {},
     "output_type": "execute_result"
    }
   ],
   "source": [
    "str"
   ]
  },
  {
   "cell_type": "code",
   "execution_count": 12,
   "id": "9dd25645-90a8-47f2-986e-3c75cc83439d",
   "metadata": {},
   "outputs": [
    {
     "name": "stdout",
     "output_type": "stream",
     "text": [
      "\n",
      "    i am very beautiful \n",
      "    i am very intelligent in python 3\n",
      "    i am very smart for self learning\n",
      "    \n"
     ]
    }
   ],
   "source": [
    "print(str)"
   ]
  },
  {
   "cell_type": "code",
   "execution_count": 25,
   "id": "1810e3be-5a26-4613-ac90-af085550ce5a",
   "metadata": {},
   "outputs": [],
   "source": [
    "a = 'hello world! '"
   ]
  },
  {
   "cell_type": "code",
   "execution_count": 26,
   "id": "2d7f8262-e3d7-438f-9313-35911a2f3179",
   "metadata": {},
   "outputs": [
    {
     "name": "stdout",
     "output_type": "stream",
     "text": [
      "hello world! \n"
     ]
    }
   ],
   "source": [
    "print(a)\n"
   ]
  },
  {
   "cell_type": "code",
   "execution_count": 27,
   "id": "22d25639-4af3-47af-a95e-56355550a6b7",
   "metadata": {},
   "outputs": [
    {
     "name": "stdout",
     "output_type": "stream",
     "text": [
      "hel\n"
     ]
    }
   ],
   "source": [
    "print(a[:3])"
   ]
  },
  {
   "cell_type": "code",
   "execution_count": 28,
   "id": "c65c6c57-d62b-42a0-b2ac-41b2a7edf54c",
   "metadata": {},
   "outputs": [
    {
     "name": "stdout",
     "output_type": "stream",
     "text": [
      "hello w\n"
     ]
    }
   ],
   "source": [
    "print(a[:7])"
   ]
  },
  {
   "cell_type": "code",
   "execution_count": 29,
   "id": "d5f2dc86-4349-46c7-b7f0-59c14aa1a702",
   "metadata": {},
   "outputs": [
    {
     "name": "stdout",
     "output_type": "stream",
     "text": [
      "hello \n"
     ]
    }
   ],
   "source": [
    "print(a[:6])"
   ]
  },
  {
   "cell_type": "code",
   "execution_count": 30,
   "id": "0c12ea49-f827-4070-8a67-623eb71d0e30",
   "metadata": {},
   "outputs": [
    {
     "name": "stdout",
     "output_type": "stream",
     "text": [
      "hello wo\n"
     ]
    }
   ],
   "source": [
    "print(a[:8])"
   ]
  },
  {
   "cell_type": "code",
   "execution_count": 31,
   "id": "5cf57193-93d3-46ff-b360-dbb179c0b47f",
   "metadata": {},
   "outputs": [
    {
     "data": {
      "text/plain": [
       "'hello world! hello world! hello world! hello world! hello world! hello world! hello world! hello world! hello world! hello world! '"
      ]
     },
     "execution_count": 31,
     "metadata": {},
     "output_type": "execute_result"
    }
   ],
   "source": [
    "a * 10"
   ]
  },
  {
   "cell_type": "code",
   "execution_count": 32,
   "id": "9a0b421e-0fd9-42a6-85cb-f88610fa7fa7",
   "metadata": {},
   "outputs": [
    {
     "data": {
      "text/plain": [
       "'hello world! hello world! '"
      ]
     },
     "execution_count": 32,
     "metadata": {},
     "output_type": "execute_result"
    }
   ],
   "source": [
    "a + a"
   ]
  },
  {
   "cell_type": "code",
   "execution_count": 33,
   "id": "b2b0fbdf-e8cb-495b-b516-739856ebb800",
   "metadata": {},
   "outputs": [],
   "source": [
    "# lists"
   ]
  },
  {
   "cell_type": "code",
   "execution_count": 34,
   "id": "da0a1d8a-0ba9-4565-85fd-54f5c66de412",
   "metadata": {},
   "outputs": [
    {
     "data": {
      "text/plain": [
       "['strawberry', 'vanila', 'Butterscotch']"
      ]
     },
     "execution_count": 34,
     "metadata": {},
     "output_type": "execute_result"
    }
   ],
   "source": [
    "['strawberry', 'vanila', 'Butterscotch']"
   ]
  },
  {
   "cell_type": "code",
   "execution_count": 35,
   "id": "fadbff15-2fa0-481c-9707-60b9e1e6af1e",
   "metadata": {},
   "outputs": [
    {
     "data": {
      "text/plain": [
       "['strawberry', 'vanila', 'Butterscotch', ['scoops', 'spoons'], 'pistah']"
      ]
     },
     "execution_count": 35,
     "metadata": {},
     "output_type": "execute_result"
    }
   ],
   "source": [
    "['strawberry', 'vanila', 'Butterscotch',['scoops','spoons'],'pistah']"
   ]
  },
  {
   "cell_type": "code",
   "execution_count": 36,
   "id": "02bdb74b-f2e3-4b31-9898-da037cab3fd7",
   "metadata": {},
   "outputs": [],
   "source": [
    "nested_list = ['strawberry', 'vanila', 'Butterscotch',['scoops','spoons'],'pistah']"
   ]
  },
  {
   "cell_type": "code",
   "execution_count": 37,
   "id": "bdad5afd-622e-4360-93af-8897c1e1dccc",
   "metadata": {},
   "outputs": [
    {
     "data": {
      "text/plain": [
       "'Butterscotch'"
      ]
     },
     "execution_count": 37,
     "metadata": {},
     "output_type": "execute_result"
    }
   ],
   "source": [
    "nested_list[2]"
   ]
  },
  {
   "cell_type": "code",
   "execution_count": 40,
   "id": "6bd04194-22a8-4fcf-a5d1-7efc993ecc77",
   "metadata": {},
   "outputs": [
    {
     "data": {
      "text/plain": [
       "['scoops', 'spoons']"
      ]
     },
     "execution_count": 40,
     "metadata": {},
     "output_type": "execute_result"
    }
   ],
   "source": [
    "nested_list[3]"
   ]
  },
  {
   "cell_type": "code",
   "execution_count": 41,
   "id": "dae41efa-f20a-453e-8caa-046d107312ce",
   "metadata": {},
   "outputs": [
    {
     "data": {
      "text/plain": [
       "'scoops'"
      ]
     },
     "execution_count": 41,
     "metadata": {},
     "output_type": "execute_result"
    }
   ],
   "source": [
    "nested_list[3][0]"
   ]
  },
  {
   "cell_type": "code",
   "execution_count": 42,
   "id": "edb9370a-47e1-44d1-a328-a0fb218235f5",
   "metadata": {},
   "outputs": [
    {
     "data": {
      "text/plain": [
       "'spoons'"
      ]
     },
     "execution_count": 42,
     "metadata": {},
     "output_type": "execute_result"
    }
   ],
   "source": [
    "nested_list[3][1]"
   ]
  },
  {
   "cell_type": "code",
   "execution_count": 45,
   "id": "d7ea0c0c-9890-4e0d-b514-855e1fd13b18",
   "metadata": {},
   "outputs": [],
   "source": [
    "nested_list.append(['mango','orange'])"
   ]
  },
  {
   "cell_type": "code",
   "execution_count": 46,
   "id": "a53a7c30-a7b5-4e6c-b0af-ba1fb93e39fc",
   "metadata": {},
   "outputs": [
    {
     "data": {
      "text/plain": [
       "['strawberry',\n",
       " 'vanila',\n",
       " 'Butterscotch',\n",
       " ['scoops', 'spoons'],\n",
       " 'pistah',\n",
       " 'mango',\n",
       " ['mango', 'orange']]"
      ]
     },
     "execution_count": 46,
     "metadata": {},
     "output_type": "execute_result"
    }
   ],
   "source": [
    "nested_list"
   ]
  },
  {
   "cell_type": "code",
   "execution_count": 47,
   "id": "1d2b729c-87ac-4583-9f3f-cda94e06a149",
   "metadata": {},
   "outputs": [],
   "source": [
    "## tuples\n",
    "## lists and tuples are quite similar , but tuples are immutable and lists are mutable.\n",
    "# immutable means it cannot be changed or created after it created\n",
    "# muutable means we can change or create after it craeted"
   ]
  },
  {
   "cell_type": "code",
   "execution_count": 48,
   "id": "fd1bff1d-f0f8-4525-b1d4-800f49508192",
   "metadata": {},
   "outputs": [],
   "source": [
    "tuples =()\n"
   ]
  },
  {
   "cell_type": "code",
   "execution_count": 49,
   "id": "6bbe1e78-b44a-4126-a605-819234b3923e",
   "metadata": {},
   "outputs": [
    {
     "data": {
      "text/plain": [
       "tuple"
      ]
     },
     "execution_count": 49,
     "metadata": {},
     "output_type": "execute_result"
    }
   ],
   "source": [
    "type(tuples)"
   ]
  },
  {
   "cell_type": "code",
   "execution_count": 54,
   "id": "86fb089c-5b14-4f96-a01f-2d87281f5913",
   "metadata": {},
   "outputs": [],
   "source": [
    "tuples =(1,2,3,4,5,6)"
   ]
  },
  {
   "cell_type": "code",
   "execution_count": 51,
   "id": "79f6e519-519d-4a81-b874-fc120616f18d",
   "metadata": {},
   "outputs": [
    {
     "ename": "AttributeError",
     "evalue": "'tuple' object has no attribute 'append'",
     "output_type": "error",
     "traceback": [
      "\u001b[1;31m---------------------------------------------------------------------------\u001b[0m",
      "\u001b[1;31mAttributeError\u001b[0m                            Traceback (most recent call last)",
      "Cell \u001b[1;32mIn[51], line 1\u001b[0m\n\u001b[1;32m----> 1\u001b[0m tuples\u001b[38;5;241m.\u001b[39mappend(\u001b[38;5;241m8\u001b[39m)\n",
      "\u001b[1;31mAttributeError\u001b[0m: 'tuple' object has no attribute 'append'"
     ]
    }
   ],
   "source": [
    "tuples.append(8)"
   ]
  },
  {
   "cell_type": "code",
   "execution_count": 59,
   "id": "179d961b-0ec3-456e-9a7c-4622e4f08742",
   "metadata": {},
   "outputs": [
    {
     "data": {
      "text/plain": [
       "4"
      ]
     },
     "execution_count": 59,
     "metadata": {},
     "output_type": "execute_result"
    }
   ],
   "source": [
    "tuples[3]"
   ]
  },
  {
   "cell_type": "code",
   "execution_count": 60,
   "id": "b1d1e36a-f0bb-421a-bbc2-7293365095ca",
   "metadata": {},
   "outputs": [
    {
     "data": {
      "text/plain": [
       "5"
      ]
     },
     "execution_count": 60,
     "metadata": {},
     "output_type": "execute_result"
    }
   ],
   "source": [
    "tuples[4]"
   ]
  },
  {
   "cell_type": "code",
   "execution_count": 1,
   "id": "69304727-ba8c-4cd6-b8d3-ebcc120745ec",
   "metadata": {},
   "outputs": [],
   "source": [
    "## Sets are similar to tuples and lists but sets dont have any duplicate element and main diffrence is elements in the sets cannot be indexed\n",
    "#because it havent indexed because it is actully unorderd\n",
    "# we can also through the items in the sets through for loop but we cannot access it using brackets and then its indexing "
   ]
  },
  {
   "cell_type": "code",
   "execution_count": 5,
   "id": "af7df8e2-1933-4410-bd09-43ed2a43f7b1",
   "metadata": {},
   "outputs": [],
   "source": [
    "sets = {1,2,3,4,4,5}"
   ]
  },
  {
   "cell_type": "code",
   "execution_count": 6,
   "id": "61e308a9-2e70-4c0e-ba5b-89cae44ddd49",
   "metadata": {},
   "outputs": [
    {
     "data": {
      "text/plain": [
       "set"
      ]
     },
     "execution_count": 6,
     "metadata": {},
     "output_type": "execute_result"
    }
   ],
   "source": [
    "type(sets)"
   ]
  },
  {
   "cell_type": "code",
   "execution_count": 7,
   "id": "a4bb706e-368a-4464-828d-df6c6764aaf4",
   "metadata": {},
   "outputs": [
    {
     "name": "stdout",
     "output_type": "stream",
     "text": [
      "{1, 2, 3, 4, 5}\n"
     ]
    }
   ],
   "source": [
    "print(sets) # sets doesnt contains the duplivates"
   ]
  },
  {
   "cell_type": "code",
   "execution_count": 8,
   "id": "1fc0d249-fb9a-4b0a-bf1b-c7252ff4d8a9",
   "metadata": {},
   "outputs": [],
   "source": [
    "my_daily_pints = {1,2,3,4,5,651,12,34,2,44,45,345}"
   ]
  },
  {
   "cell_type": "code",
   "execution_count": 11,
   "id": "879ae19b-8839-4f29-9036-39c2b89e3def",
   "metadata": {},
   "outputs": [],
   "source": [
    "his_daily_pints = {4,5,7,8,9,2,2,5,78,6,22,34,5,9}"
   ]
  },
  {
   "cell_type": "code",
   "execution_count": 12,
   "id": "54fba459-0712-4a00-aabb-ca7b20035bd6",
   "metadata": {},
   "outputs": [
    {
     "name": "stdout",
     "output_type": "stream",
     "text": [
      "{1, 2, 3, 4, 5, 6, 7, 8, 9, 651, 12, 78, 22, 345, 34, 44, 45}\n"
     ]
    }
   ],
   "source": [
    "print (my_daily_pints | his_daily_pints)"
   ]
  },
  {
   "cell_type": "code",
   "execution_count": 14,
   "id": "590f6ad8-2614-4ed9-b58a-5b46396699e3",
   "metadata": {},
   "outputs": [
    {
     "name": "stdout",
     "output_type": "stream",
     "text": [
      "{2, 5, 34, 4}\n"
     ]
    }
   ],
   "source": [
    "print (my_daily_pints & his_daily_pints) # Which shows which number shows in both sets"
   ]
  },
  {
   "cell_type": "code",
   "execution_count": 15,
   "id": "f3c0093c-1038-44c1-9e2f-2788e874491a",
   "metadata": {},
   "outputs": [
    {
     "name": "stdout",
     "output_type": "stream",
     "text": [
      "{1, 3, 651, 12, 44, 45, 345}\n"
     ]
    }
   ],
   "source": [
    "print (my_daily_pints - his_daily_pints) #which shows which didnt match"
   ]
  },
  {
   "cell_type": "code",
   "execution_count": 16,
   "id": "a58c0480-eff8-4f5e-b8bc-91cbcd3b8ff6",
   "metadata": {},
   "outputs": [
    {
     "name": "stdout",
     "output_type": "stream",
     "text": [
      "{6, 7, 8, 9, 78, 22}\n"
     ]
    }
   ],
   "source": [
    "print (his_daily_pints - my_daily_pints)"
   ]
  },
  {
   "cell_type": "code",
   "execution_count": 17,
   "id": "1313e56f-1744-4aa5-81be-01a71bb555d8",
   "metadata": {},
   "outputs": [
    {
     "name": "stdout",
     "output_type": "stream",
     "text": [
      "{1, 2, 3, 4, 5, 6, 7, 8, 9, 651, 12, 78, 22, 345, 34, 44, 45}\n"
     ]
    }
   ],
   "source": [
    "print (his_daily_pints | my_daily_pints )"
   ]
  },
  {
   "cell_type": "code",
   "execution_count": 18,
   "id": "43182616-3778-4c24-b0da-b60b3395b6d3",
   "metadata": {},
   "outputs": [
    {
     "name": "stdout",
     "output_type": "stream",
     "text": [
      "{1, 3, 6, 7, 8, 9, 651, 12, 44, 45, 78, 22, 345}\n"
     ]
    }
   ],
   "source": [
    "print (his_daily_pints ^  my_daily_pints )"
   ]
  },
  {
   "cell_type": "code",
   "execution_count": null,
   "id": "86de9ffe-5dc0-4667-88df-90813e0f213a",
   "metadata": {},
   "outputs": [],
   "source": [
    "## Dictionaries\n",
    "# In a dictionary we will have a key which indicates which the value indicated to.\n",
    "# A dictionary also contains values"
   ]
  },
  {
   "cell_type": "code",
   "execution_count": 21,
   "id": "7eec9eae-e499-4180-b96b-8b86e70ae95a",
   "metadata": {},
   "outputs": [],
   "source": [
    "my_dict = {'Name':'Vrindha', 'Age' : 23, 'Place': 'Trivandrum','fav food':['Biriyani', 'Ice cream']}"
   ]
  },
  {
   "cell_type": "code",
   "execution_count": 22,
   "id": "d339200f-2efd-446e-8be6-711bf4fc6c03",
   "metadata": {},
   "outputs": [
    {
     "data": {
      "text/plain": [
       "dict"
      ]
     },
     "execution_count": 22,
     "metadata": {},
     "output_type": "execute_result"
    }
   ],
   "source": [
    "type(my_dict)"
   ]
  },
  {
   "cell_type": "code",
   "execution_count": 23,
   "id": "5e7bac49-a563-4b87-8a24-71869e80f415",
   "metadata": {},
   "outputs": [
    {
     "data": {
      "text/plain": [
       "{'Name': 'Vrindha',\n",
       " 'Age': 23,\n",
       " 'Place': 'Trivandrum',\n",
       " 'fav food': ['Biriyani', 'Ice cream']}"
      ]
     },
     "execution_count": 23,
     "metadata": {},
     "output_type": "execute_result"
    }
   ],
   "source": [
    "my_dict"
   ]
  },
  {
   "cell_type": "code",
   "execution_count": 26,
   "id": "1194391f-3583-405d-9b72-b7b325b1dc3c",
   "metadata": {},
   "outputs": [
    {
     "data": {
      "text/plain": [
       "dict_values(['Vrindha', 23, 'Trivandrum', ['Biriyani', 'Ice cream']])"
      ]
     },
     "execution_count": 26,
     "metadata": {},
     "output_type": "execute_result"
    }
   ],
   "source": [
    "my_dict.values()"
   ]
  },
  {
   "cell_type": "code",
   "execution_count": 27,
   "id": "725b1b1f-240f-4acb-a388-457838913980",
   "metadata": {},
   "outputs": [
    {
     "data": {
      "text/plain": [
       "dict_keys(['Name', 'Age', 'Place', 'fav food'])"
      ]
     },
     "execution_count": 27,
     "metadata": {},
     "output_type": "execute_result"
    }
   ],
   "source": [
    "my_dict.keys()"
   ]
  },
  {
   "cell_type": "code",
   "execution_count": 28,
   "id": "3f92b25e-0748-49d0-ac13-eb39569b94be",
   "metadata": {},
   "outputs": [
    {
     "data": {
      "text/plain": [
       "dict_items([('Name', 'Vrindha'), ('Age', 23), ('Place', 'Trivandrum'), ('fav food', ['Biriyani', 'Ice cream'])])"
      ]
     },
     "execution_count": 28,
     "metadata": {},
     "output_type": "execute_result"
    }
   ],
   "source": [
    "my_dict.items()"
   ]
  },
  {
   "cell_type": "code",
   "execution_count": 29,
   "id": "6b6e4a57-8fcb-44ba-b8d0-921e45dcc133",
   "metadata": {},
   "outputs": [],
   "source": [
    "my_dict['Name'] = 'Jipson'"
   ]
  },
  {
   "cell_type": "code",
   "execution_count": 30,
   "id": "ba5736e0-0007-4717-8e04-c2bce4025f83",
   "metadata": {},
   "outputs": [
    {
     "data": {
      "text/plain": [
       "{'Name': 'Jipson',\n",
       " 'Age': 23,\n",
       " 'Place': 'Trivandrum',\n",
       " 'fav food': ['Biriyani', 'Ice cream']}"
      ]
     },
     "execution_count": 30,
     "metadata": {},
     "output_type": "execute_result"
    }
   ],
   "source": [
    "my_dict"
   ]
  },
  {
   "cell_type": "code",
   "execution_count": null,
   "id": "57c3ab7a-d864-4122-b0b6-aa8d2a1d7468",
   "metadata": {},
   "outputs": [],
   "source": []
  }
 ],
 "metadata": {
  "kernelspec": {
   "display_name": "Python 3 (ipykernel)",
   "language": "python",
   "name": "python3"
  },
  "language_info": {
   "codemirror_mode": {
    "name": "ipython",
    "version": 3
   },
   "file_extension": ".py",
   "mimetype": "text/x-python",
   "name": "python",
   "nbconvert_exporter": "python",
   "pygments_lexer": "ipython3",
   "version": "3.11.7"
  }
 },
 "nbformat": 4,
 "nbformat_minor": 5
}
