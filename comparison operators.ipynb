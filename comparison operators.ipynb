{
 "cells": [
  {
   "cell_type": "markdown",
   "id": "6f2bdf9d-6816-4a7d-9cf9-66d055278a66",
   "metadata": {},
   "source": [
    "## Comparison Operators"
   ]
  },
  {
   "cell_type": "code",
   "execution_count": 1,
   "id": "55b47306-23ad-4bcc-91f7-1ce17f210351",
   "metadata": {},
   "outputs": [
    {
     "ename": "SyntaxError",
     "evalue": "cannot assign to literal here. Maybe you meant '==' instead of '='? (2269019996.py, line 1)",
     "output_type": "error",
     "traceback": [
      "\u001b[1;36m  Cell \u001b[1;32mIn[1], line 1\u001b[1;36m\u001b[0m\n\u001b[1;33m    10 = 10\u001b[0m\n\u001b[1;37m    ^\u001b[0m\n\u001b[1;31mSyntaxError\u001b[0m\u001b[1;31m:\u001b[0m cannot assign to literal here. Maybe you meant '==' instead of '='?\n"
     ]
    }
   ],
   "source": [
    "10 = 10\n"
   ]
  },
  {
   "cell_type": "code",
   "execution_count": 2,
   "id": "6843d836-501d-4451-9341-185d0ccf970f",
   "metadata": {},
   "outputs": [
    {
     "data": {
      "text/plain": [
       "True"
      ]
     },
     "execution_count": 2,
     "metadata": {},
     "output_type": "execute_result"
    }
   ],
   "source": [
    "10 == 10"
   ]
  },
  {
   "cell_type": "code",
   "execution_count": 3,
   "id": "16f055cf-639f-4de3-8bc0-0fd42c6fff2c",
   "metadata": {},
   "outputs": [
    {
     "data": {
      "text/plain": [
       "True"
      ]
     },
     "execution_count": 3,
     "metadata": {},
     "output_type": "execute_result"
    }
   ],
   "source": [
    "10 >=9"
   ]
  },
  {
   "cell_type": "code",
   "execution_count": 4,
   "id": "a86467b0-5160-4696-a924-ddb44c2b027b",
   "metadata": {},
   "outputs": [
    {
     "data": {
      "text/plain": [
       "False"
      ]
     },
     "execution_count": 4,
     "metadata": {},
     "output_type": "execute_result"
    }
   ],
   "source": [
    "10 > 100"
   ]
  },
  {
   "cell_type": "code",
   "execution_count": 5,
   "id": "69ed3d5c-c25f-4ce0-8705-185330236042",
   "metadata": {},
   "outputs": [
    {
     "data": {
      "text/plain": [
       "True"
      ]
     },
     "execution_count": 5,
     "metadata": {},
     "output_type": "execute_result"
    }
   ],
   "source": [
    "100 > 10"
   ]
  },
  {
   "cell_type": "code",
   "execution_count": 6,
   "id": "00154e51-8e5d-4860-a3df-d6dcda4b8907",
   "metadata": {},
   "outputs": [
    {
     "data": {
      "text/plain": [
       "False"
      ]
     },
     "execution_count": 6,
     "metadata": {},
     "output_type": "execute_result"
    }
   ],
   "source": [
    "10 < 10"
   ]
  },
  {
   "cell_type": "code",
   "execution_count": 7,
   "id": "e80230d5-a39d-4929-aa09-ceb4bf5d514e",
   "metadata": {},
   "outputs": [
    {
     "data": {
      "text/plain": [
       "False"
      ]
     },
     "execution_count": 7,
     "metadata": {},
     "output_type": "execute_result"
    }
   ],
   "source": [
    "45 == 43"
   ]
  },
  {
   "cell_type": "code",
   "execution_count": 9,
   "id": "0e13adfd-2416-47f5-9ec8-af7510428616",
   "metadata": {},
   "outputs": [
    {
     "data": {
      "text/plain": [
       "True"
      ]
     },
     "execution_count": 9,
     "metadata": {},
     "output_type": "execute_result"
    }
   ],
   "source": [
    "24 >= 8"
   ]
  },
  {
   "cell_type": "markdown",
   "id": "ff9b7891-ad27-412d-b2dd-a01ca0f0d41c",
   "metadata": {},
   "source": [
    "## Logical Operators"
   ]
  },
  {
   "cell_type": "code",
   "execution_count": 12,
   "id": "537a0120-ca77-42bf-af32-396b89115194",
   "metadata": {},
   "outputs": [
    {
     "data": {
      "text/plain": [
       "False"
      ]
     },
     "execution_count": 12,
     "metadata": {},
     "output_type": "execute_result"
    }
   ],
   "source": [
    "(70 > 50) and (10>50)"
   ]
  },
  {
   "cell_type": "code",
   "execution_count": 13,
   "id": "0d3e7cb5-facd-429a-8aba-dbad36ffddc7",
   "metadata": {},
   "outputs": [
    {
     "data": {
      "text/plain": [
       "True"
      ]
     },
     "execution_count": 13,
     "metadata": {},
     "output_type": "execute_result"
    }
   ],
   "source": [
    "(70 > 50) and (50>10)"
   ]
  },
  {
   "cell_type": "code",
   "execution_count": 14,
   "id": "b222c985-f5a4-43a0-b892-e94d6549b388",
   "metadata": {},
   "outputs": [
    {
     "data": {
      "text/plain": [
       "True"
      ]
     },
     "execution_count": 14,
     "metadata": {},
     "output_type": "execute_result"
    }
   ],
   "source": [
    "(70 > 50) or (50>10)"
   ]
  },
  {
   "cell_type": "code",
   "execution_count": 15,
   "id": "8f78cb74-7570-4852-ac58-a06b7350b80c",
   "metadata": {},
   "outputs": [
    {
     "data": {
      "text/plain": [
       "True"
      ]
     },
     "execution_count": 15,
     "metadata": {},
     "output_type": "execute_result"
    }
   ],
   "source": [
    "(700 > 50) or (100>10)"
   ]
  },
  {
   "cell_type": "code",
   "execution_count": 16,
   "id": "ea3ea1b7-5c7c-46c6-a992-cd707d96b952",
   "metadata": {},
   "outputs": [
    {
     "data": {
      "text/plain": [
       "True"
      ]
     },
     "execution_count": 16,
     "metadata": {},
     "output_type": "execute_result"
    }
   ],
   "source": [
    "10 > 50 or 50 > 10"
   ]
  },
  {
   "cell_type": "code",
   "execution_count": 22,
   "id": "78a0f727-9f3b-4941-ac94-0d0b480590f3",
   "metadata": {},
   "outputs": [
    {
     "data": {
      "text/plain": [
       "False"
      ]
     },
     "execution_count": 22,
     "metadata": {},
     "output_type": "execute_result"
    }
   ],
   "source": [
    "(10 > 50) or (10 > 50)"
   ]
  },
  {
   "cell_type": "code",
   "execution_count": 23,
   "id": "041427e1-cb9d-47e0-9a82-e21e80a23da6",
   "metadata": {},
   "outputs": [
    {
     "data": {
      "text/plain": [
       "('vanila', 'strawberry')"
      ]
     },
     "execution_count": 23,
     "metadata": {},
     "output_type": "execute_result"
    }
   ],
   "source": [
    "('vanila', 'strawberry') or (10>40)"
   ]
  },
  {
   "cell_type": "code",
   "execution_count": 24,
   "id": "d9524110-8603-46f6-b19e-1e1ba97884d2",
   "metadata": {},
   "outputs": [
    {
     "data": {
      "text/plain": [
       "False"
      ]
     },
     "execution_count": 24,
     "metadata": {},
     "output_type": "execute_result"
    }
   ],
   "source": [
    "('vanila', 'strawberry') and (10>40)"
   ]
  },
  {
   "cell_type": "code",
   "execution_count": 26,
   "id": "53ba4f28-e3d9-4a3f-af42-f410891aeeb2",
   "metadata": {},
   "outputs": [
    {
     "data": {
      "text/plain": [
       "('vanila', 'strawberry')"
      ]
     },
     "execution_count": 26,
     "metadata": {},
     "output_type": "execute_result"
    }
   ],
   "source": [
    "(10<40) and ('vanila', 'strawberry')"
   ]
  },
  {
   "cell_type": "code",
   "execution_count": null,
   "id": "cae3bdb8-f079-4462-a609-792ac16ee581",
   "metadata": {},
   "outputs": [],
   "source": [
    "## Membership operators \n",
    "# in \n",
    "# not in"
   ]
  },
  {
   "cell_type": "code",
   "execution_count": 27,
   "id": "e08ea971-f37b-4d81-a42c-742a66d69818",
   "metadata": {},
   "outputs": [
    {
     "data": {
      "text/plain": [
       "True"
      ]
     },
     "execution_count": 27,
     "metadata": {},
     "output_type": "execute_result"
    }
   ],
   "source": [
    "str = ' ilove ice cream'\n",
    "'love' in str"
   ]
  },
  {
   "cell_type": "code",
   "execution_count": 28,
   "id": "308d4ada-2fc8-4d6d-af1c-1d64d7e88fa6",
   "metadata": {},
   "outputs": [
    {
     "data": {
      "text/plain": [
       "False"
      ]
     },
     "execution_count": 28,
     "metadata": {},
     "output_type": "execute_result"
    }
   ],
   "source": [
    "'you' in str"
   ]
  },
  {
   "cell_type": "code",
   "execution_count": 29,
   "id": "a31deff0-4118-4721-8e27-6d8c43e4858d",
   "metadata": {},
   "outputs": [],
   "source": [
    "lists = [ 2,4,5,6,7,8,9,10]"
   ]
  },
  {
   "cell_type": "code",
   "execution_count": 30,
   "id": "f686c7da-d8e9-4f93-88dc-ab9e2abc0cf4",
   "metadata": {},
   "outputs": [
    {
     "data": {
      "text/plain": [
       "True"
      ]
     },
     "execution_count": 30,
     "metadata": {},
     "output_type": "execute_result"
    }
   ],
   "source": [
    "1 not in lists"
   ]
  },
  {
   "cell_type": "code",
   "execution_count": 31,
   "id": "69392c4e-1d80-4f62-ab93-11012bc084dc",
   "metadata": {},
   "outputs": [
    {
     "data": {
      "text/plain": [
       "False"
      ]
     },
     "execution_count": 31,
     "metadata": {},
     "output_type": "execute_result"
    }
   ],
   "source": [
    "2 not in lists"
   ]
  },
  {
   "cell_type": "code",
   "execution_count": null,
   "id": "2e569b65-2c44-4d28-95fa-6e56df932f77",
   "metadata": {},
   "outputs": [],
   "source": []
  }
 ],
 "metadata": {
  "kernelspec": {
   "display_name": "Python 3 (ipykernel)",
   "language": "python",
   "name": "python3"
  },
  "language_info": {
   "codemirror_mode": {
    "name": "ipython",
    "version": 3
   },
   "file_extension": ".py",
   "mimetype": "text/x-python",
   "name": "python",
   "nbconvert_exporter": "python",
   "pygments_lexer": "ipython3",
   "version": "3.11.7"
  }
 },
 "nbformat": 4,
 "nbformat_minor": 5
}
