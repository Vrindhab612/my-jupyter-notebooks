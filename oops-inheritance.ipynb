{
 "cells": [
  {
   "cell_type": "markdown",
   "metadata": {},
   "source": [
    "# Inheritance"
   ]
  },
  {
   "cell_type": "code",
   "execution_count": null,
   "metadata": {},
   "outputs": [],
   "source": [
    "# inheritance example  using python\n",
    "# implement the example in pyhton\n",
    "# Benefits of inheritance\n",
    "# isinstance and issubstance methods\n"
   ]
  },
  {
   "cell_type": "markdown",
   "metadata": {},
   "source": [
    "#                    Vehicle\n",
    "#### Usage: Transporation\n",
    "\n",
    "## car\n",
    "* wheels = 4\n",
    "* has roof = yes\n",
    "* sepcific usage : commute to work & vaccation with family.\n",
    "## Bike\n",
    "* wheels = 2\n",
    "* has roof = no\n",
    "* specific usage: road trip & race."
   ]
  },
  {
   "cell_type": "code",
   "execution_count": 5,
   "metadata": {},
   "outputs": [
    {
     "name": "stdout",
     "output_type": "stream",
     "text": [
      "I'm car\n",
      "general use : Transporation\n",
      "Specific usage : commute to work and Vaccation with families\n",
      "I'm Motor cycle\n",
      "general use : Transporation\n",
      "Specific usage: Road trip , Race\n"
     ]
    }
   ],
   "source": [
    "class Vehicle:\n",
    "    def general_usage(self):\n",
    "        print(\"general use : Transporation\")\n",
    "class Car(Vehicle):\n",
    "    def __init__(self):\n",
    "        print(\"I'm car\")\n",
    "        self.wheels = 4\n",
    "        self.has_roof = True\n",
    "    def specific_usage(self):\n",
    "        self.general_usage()\n",
    "        print('Specific usage : commute to work and Vaccation with families')\n",
    "class Motor_cycle(Vehicle):\n",
    "    def __init__(self):\n",
    "        print(\"I'm Motor cycle\")\n",
    "        self.wheels = 2\n",
    "        self.has_roof = False\n",
    "    def specific_usage(self):\n",
    "        self.general_usage()\n",
    "        print('Specific usage: Road trip , Race')\n",
    "c = Car()\n",
    "c.specific_usage()\n",
    "\n",
    "m = Motor_cycle()\n",
    "m.specific_usage()\n"
   ]
  },
  {
   "cell_type": "markdown",
   "metadata": {},
   "source": [
    "#### Isinstance and issubclass"
   ]
  },
  {
   "cell_type": "code",
   "execution_count": null,
   "metadata": {},
   "outputs": [
    {
     "name": "stdout",
     "output_type": "stream",
     "text": [
      "I'm Car\n",
      "I'm Motor Cycle\n"
     ]
    },
    {
     "data": {
      "text/plain": [
       "True"
      ]
     },
     "execution_count": 10,
     "metadata": {},
     "output_type": "execute_result"
    }
   ],
   "source": [
    "class Vehicle():\n",
    "    def general_usage(self):\n",
    "        print('General usage : Transportation')\n",
    "class Car():\n",
    "    def __init__(self):\n",
    "        print(\"I'm Car\")\n",
    "        self.wheels= 4\n",
    "        self.has_roof = True\n",
    "    def specific_usage(self):\n",
    "        self.general_usage()\n",
    "        print('Specific usage: Commute to work & vaccation with family.')\n",
    "class Motor_cycle():\n",
    "    def __init__(self):\n",
    "        print(\"I'm Motor Cycle\")\n",
    "        self.wheels = 2\n",
    "        self.has_roof = False\n",
    "    def specific_usage(self):\n",
    "        self.general_usage()\n",
    "        print('Specific usage : Road trip & race')\n",
    "c = Car()\n",
    "m = Motor_cycle()\n",
    "isinstance(c,Car)\n",
    "#is c the instance of Car?\n",
    "\n"
   ]
  },
  {
   "cell_type": "code",
   "execution_count": null,
   "metadata": {},
   "outputs": [
    {
     "name": "stdout",
     "output_type": "stream",
     "text": [
      "I'm Car\n",
      "I'm Motor Cycle\n"
     ]
    },
    {
     "data": {
      "text/plain": [
       "True"
      ]
     },
     "execution_count": 15,
     "metadata": {},
     "output_type": "execute_result"
    }
   ],
   "source": [
    "class Vehicle():\n",
    "    def general_usage(self):\n",
    "        print('General usage : Transportation')\n",
    "class Car(Vehicle):\n",
    "    def __init__(self):\n",
    "        print(\"I'm Car\")\n",
    "        self.wheels= 4\n",
    "        self.has_roof = True\n",
    "    def specific_usage(self):\n",
    "        self.general_usage()\n",
    "        print('Specific usage: Commute to work & vaccation with family.')\n",
    "class Motor_cycle(Vehicle):\n",
    "    def __init__(self):\n",
    "        print(\"I'm Motor Cycle\")\n",
    "        self.wheels = 2\n",
    "        self.has_roof = False\n",
    "    def specific_usage(self):\n",
    "        self.general_usage()\n",
    "        print('Specific usage : Road trip & race')\n",
    "c = Car()\n",
    "m = Motor_cycle()\n",
    "issubclass(Car,Vehicle)\n",
    "#is car a subclass of vehicle?\n"
   ]
  },
  {
   "cell_type": "code",
   "execution_count": 16,
   "metadata": {},
   "outputs": [
    {
     "data": {
      "text/plain": [
       "False"
      ]
     },
     "execution_count": 16,
     "metadata": {},
     "output_type": "execute_result"
    }
   ],
   "source": [
    "issubclass(Car,Motor_cycle)"
   ]
  },
  {
   "cell_type": "code",
   "execution_count": 17,
   "metadata": {},
   "outputs": [
    {
     "data": {
      "text/plain": [
       "True"
      ]
     },
     "execution_count": 17,
     "metadata": {},
     "output_type": "execute_result"
    }
   ],
   "source": [
    "issubclass(Motor_cycle,Vehicle)"
   ]
  },
  {
   "cell_type": "markdown",
   "metadata": {},
   "source": [
    "# Multiple Inheritance"
   ]
  },
  {
   "cell_type": "code",
   "execution_count": 18,
   "metadata": {},
   "outputs": [
    {
     "name": "stdout",
     "output_type": "stream",
     "text": [
      "Gardening, Programming\n",
      "Cooking, Art\n",
      "Sports\n"
     ]
    }
   ],
   "source": [
    "class Father():\n",
    "    def skills(self):\n",
    "        print('Gardening, Programming')\n",
    "    \n",
    "class Mother():\n",
    "    def skills(self):\n",
    "        print('Cooking, Art')\n",
    "\n",
    "class Child(Father,Mother):\n",
    "    def skills(self):\n",
    "        Father.skills(self)\n",
    "        Mother.skills(self)\n",
    "        print('Sports')\n",
    "c = Child()\n",
    "c.skills()"
   ]
  },
  {
   "cell_type": "code",
   "execution_count": null,
   "metadata": {},
   "outputs": [],
   "source": []
  }
 ],
 "metadata": {
  "kernelspec": {
   "display_name": "my__envt",
   "language": "python",
   "name": "python3"
  },
  "language_info": {
   "codemirror_mode": {
    "name": "ipython",
    "version": 3
   },
   "file_extension": ".py",
   "mimetype": "text/x-python",
   "name": "python",
   "nbconvert_exporter": "python",
   "pygments_lexer": "ipython3",
   "version": "3.11.9"
  }
 },
 "nbformat": 4,
 "nbformat_minor": 2
}
