{
 "cells": [
  {
   "cell_type": "markdown",
   "metadata": {},
   "source": [
    "### OOPs\n",
    "Object oriented Programming language is a fundamental cocept in python, In python Object oriented programm is a paradigm that uses objects and classes  in programming . It aims to implement real-world entities like instance, Polymorphisms, Encapsulation etc in the programming.\n",
    "\n",
    "#### OOPs Concepts in pyhton:\n",
    "* Class\n",
    "* Object\n",
    "* Polymorphism\n",
    "* Encapsulation\n",
    "* Inheritance\n",
    "* Data Abstraction\n",
    "\n",
    "- Class is a blueprint or template for creating Objects. It defines the properties and behaviours that the object created from that will have.\n",
    "\n",
    "- Object is an instance of class, when you created a object it inherites the structure and behaviour defined by the class.\n",
    "\n",
    "- Encapsulation is the concept of bundling the data and methods that work on a data within in  a single unit or class. Often hide from the internal state from the outside. This helps to prevent direct access to data and allows control over data by defining methods.\n",
    "\n",
    "- Abstraction is the concept of simplifying complex system by modeling by classes appropriate to the problems. It hides unnecessary details from the user and exposes only essential features.\n",
    "\n",
    "- Inheritance is the process by which one class can inherit attributes and methods from another class. This promotes code reusability.\n",
    "\n",
    "- Polymorphism is the ability of different classes to be treated as instances of the same class through a common interface. It allows methods to do different things based on the object it is acting upon."
   ]
  },
  {
   "cell_type": "code",
   "execution_count": null,
   "metadata": {},
   "outputs": [],
   "source": [
    "# Class\n",
    "class Car:\n",
    "    pass"
   ]
  },
  {
   "cell_type": "code",
   "execution_count": null,
   "metadata": {},
   "outputs": [],
   "source": [
    "#Object\n",
    "my_car = Car()"
   ]
  },
  {
   "cell_type": "code",
   "execution_count": null,
   "metadata": {},
   "outputs": [],
   "source": [
    "# Encapsulation\n",
    "class Car():\n",
    "    def __init__(self,color) -> None:\n",
    "        self.__color = color\n",
    "    def get_color(self):\n",
    "        return self.__color"
   ]
  },
  {
   "cell_type": "code",
   "execution_count": 8,
   "metadata": {},
   "outputs": [],
   "source": [
    "# Abstarction\n",
    "class Car():\n",
    "    def drive(self):\n",
    "        print('The car is moving forwar')"
   ]
  },
  {
   "cell_type": "code",
   "execution_count": 9,
   "metadata": {},
   "outputs": [],
   "source": [
    "# Inheritance\n",
    "class ElectricCar(Car):\n",
    "    pass"
   ]
  },
  {
   "cell_type": "code",
   "execution_count": 10,
   "metadata": {},
   "outputs": [],
   "source": [
    "# Polymorphism\n",
    "class Dog:\n",
    "    def sound(self):\n",
    "        return 'woof!'\n",
    "class cat:\n",
    "    def sound(self):\n",
    "        return 'Mewo!'"
   ]
  },
  {
   "cell_type": "code",
   "execution_count": 3,
   "metadata": {},
   "outputs": [
    {
     "name": "stdout",
     "output_type": "stream",
     "text": [
      "Tom Cruis Shoots film\n",
      "Tom Cruis says how are you\n"
     ]
    }
   ],
   "source": [
    "class Human:\n",
    "    def __init__(self,n,o):\n",
    "        self.name = n\n",
    "        self.occupation = o\n",
    "    def do_work(self):\n",
    "        if self.occupation == 'tennis player':\n",
    "            print(self.name, 'play tennis')\n",
    "        elif self.occupation == 'actor':\n",
    "            print(self.name,'Shoots film')\n",
    "    def speaks(self):\n",
    "        print(self.name,'says how are you')\n",
    "Tom = Human('Tom Cruis','actor')\n",
    "Tom.do_work()\n",
    "Tom.speaks()"
   ]
  },
  {
   "cell_type": "code",
   "execution_count": 4,
   "metadata": {},
   "outputs": [
    {
     "name": "stdout",
     "output_type": "stream",
     "text": [
      "Shakkeela paul play tennis\n",
      "Shakkeela paul says how are you\n"
     ]
    }
   ],
   "source": [
    "shakeela = Human('Shakkeela paul','tennis player')\n",
    "shakeela.do_work()\n",
    "shakeela.speaks()"
   ]
  },
  {
   "cell_type": "code",
   "execution_count": null,
   "metadata": {},
   "outputs": [],
   "source": []
  }
 ],
 "metadata": {
  "kernelspec": {
   "display_name": "my__envt",
   "language": "python",
   "name": "python3"
  },
  "language_info": {
   "codemirror_mode": {
    "name": "ipython",
    "version": 3
   },
   "file_extension": ".py",
   "mimetype": "text/x-python",
   "name": "python",
   "nbconvert_exporter": "python",
   "pygments_lexer": "ipython3",
   "version": "3.11.9"
  }
 },
 "nbformat": 4,
 "nbformat_minor": 2
}
